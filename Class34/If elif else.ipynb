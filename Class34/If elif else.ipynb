{
 "cells": [
  {
   "cell_type": "code",
   "execution_count": null,
   "metadata": {},
   "outputs": [],
   "source": [
    "# what is if elif else"
   ]
  },
  {
   "cell_type": "code",
   "execution_count": null,
   "metadata": {},
   "outputs": [],
   "source": [
    "# syntax"
   ]
  },
  {
   "cell_type": "code",
   "execution_count": 1,
   "metadata": {},
   "outputs": [
    {
     "name": "stdout",
     "output_type": "stream",
     "text": [
      "one\n"
     ]
    }
   ],
   "source": [
    "# example\n",
    "x=1\n",
    "if(x==1):\n",
    "    print(\"one\")\n",
    "if(x==2):\n",
    "    print(\"two\")\n",
    "if(x==3):\n",
    "    print(\"three\")\n",
    "if(x==4):\n",
    "    print(\"four\")\n",
    "if(x==5):\n",
    "    print(\"five\")"
   ]
  },
  {
   "cell_type": "code",
   "execution_count": 3,
   "metadata": {
    "scrolled": true
   },
   "outputs": [
    {
     "name": "stdout",
     "output_type": "stream",
     "text": [
      "four\n"
     ]
    }
   ],
   "source": [
    "# example 2\n",
    "x=4\n",
    "if(x==1):\n",
    "    print(\"one\")\n",
    "elif(x==2):\n",
    "    print(\"two\")\n",
    "elif(x==3):\n",
    "    print(\"three\")\n",
    "elif(x==4):\n",
    "    print(\"four\")\n",
    "elif(x==5):\n",
    "    print(\"five\")"
   ]
  },
  {
   "cell_type": "code",
   "execution_count": 4,
   "metadata": {
    "scrolled": false
   },
   "outputs": [
    {
     "name": "stdout",
     "output_type": "stream",
     "text": [
      "number not found\n",
      "program terminated\n"
     ]
    }
   ],
   "source": [
    "# example 3\n",
    "x=6\n",
    "if(x==1):\n",
    "    print(\"one\")\n",
    "elif(x==2):\n",
    "    print(\"two\")\n",
    "elif(x==3):\n",
    "    print(\"three\")\n",
    "elif(x==4):\n",
    "    print(\"four\")\n",
    "elif(x==5):\n",
    "    print(\"five\")\n",
    "else:\n",
    "    print(\"number not found\")\n",
    "    \n",
    "print(\"program terminated\")"
   ]
  },
  {
   "cell_type": "code",
   "execution_count": null,
   "metadata": {},
   "outputs": [],
   "source": [
    "\n",
    "\n",
    "\n",
    "\n",
    "\n",
    "\n",
    "\n",
    "\n",
    "\n",
    "\n",
    "\n",
    "\n",
    "\n",
    "\n",
    "\n",
    "\n",
    "\n",
    "\n",
    "\n",
    "\n",
    "\n",
    "\n",
    "\n",
    "\n",
    "\n",
    "\n",
    "\n",
    "\n",
    "\n",
    "\n",
    "\n",
    "\n",
    "\n",
    "\n",
    "\n",
    "\n",
    "\n",
    "\n",
    "\n",
    "\n",
    "\n",
    "\n",
    "\n",
    "\n",
    "\n",
    "\n",
    "\n",
    "\n",
    "\n",
    "\n",
    "\n",
    "\n"
   ]
  }
 ],
 "metadata": {
  "kernelspec": {
   "display_name": "Python 3",
   "language": "python",
   "name": "python3"
  },
  "language_info": {
   "codemirror_mode": {
    "name": "ipython",
    "version": 3
   },
   "file_extension": ".py",
   "mimetype": "text/x-python",
   "name": "python",
   "nbconvert_exporter": "python",
   "pygments_lexer": "ipython3",
   "version": "3.8.3"
  }
 },
 "nbformat": 4,
 "nbformat_minor": 4
}
