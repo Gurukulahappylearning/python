{
 "cells": [
  {
   "cell_type": "code",
   "execution_count": 5,
   "metadata": {},
   "outputs": [
    {
     "name": "stdout",
     "output_type": "stream",
     "text": [
      "0\n",
      "i am from else block\n",
      "1\n",
      "i am from else block\n",
      "2\n",
      "i am from else block\n",
      "3\n",
      "i am from else block\n",
      "4\n",
      "i am from else block\n",
      "5\n",
      "i am from else block\n",
      "6\n",
      "program terminated\n"
     ]
    }
   ],
   "source": [
    "# example break\n",
    "for i in range(10):\n",
    "    print(i)\n",
    "    if(i>5):\n",
    "        break\n",
    "    else:\n",
    "        print(\"i am from else block\")\n",
    "print(\"program terminated\")"
   ]
  },
  {
   "cell_type": "code",
   "execution_count": 6,
   "metadata": {},
   "outputs": [
    {
     "name": "stdout",
     "output_type": "stream",
     "text": [
      "0\n",
      "i am from else block\n",
      "1\n",
      "i am from else block\n",
      "2\n",
      "i am from else block\n",
      "3\n",
      "i am from else block\n",
      "4\n",
      "i am from else block\n",
      "5\n",
      "i am from else block\n",
      "6\n",
      "7\n",
      "8\n",
      "9\n",
      "program terminated\n"
     ]
    }
   ],
   "source": [
    "# example continue\n",
    "for i in range(10):\n",
    "    print(i)\n",
    "    if(i>5):\n",
    "        continue\n",
    "    else:\n",
    "        print(\"i am from else block\")\n",
    "print(\"program terminated\")"
   ]
  },
  {
   "cell_type": "code",
   "execution_count": 7,
   "metadata": {
    "scrolled": true
   },
   "outputs": [
    {
     "name": "stdout",
     "output_type": "stream",
     "text": [
      "0\n",
      "i am from else block\n",
      "1\n",
      "i am from else block\n",
      "2\n",
      "i am from else block\n",
      "3\n",
      "i am from else block\n",
      "4\n",
      "i am from else block\n",
      "5\n",
      "i am from else block\n",
      "6\n",
      "7\n",
      "8\n",
      "9\n",
      "program terminated\n"
     ]
    }
   ],
   "source": [
    "# example pass\n",
    "for i in range(10):\n",
    "    print(i)\n",
    "    if(i>5):\n",
    "        pass\n",
    "    else:\n",
    "        print(\"i am from else block\")\n",
    "print(\"program terminated\")"
   ]
  },
  {
   "cell_type": "code",
   "execution_count": null,
   "metadata": {},
   "outputs": [],
   "source": [
    "\n",
    "\n",
    "\n",
    "\n",
    "\n",
    "\n",
    "\n",
    "\n",
    "\n",
    "\n",
    "\n",
    "\n",
    "\n",
    "\n",
    "\n",
    "\n",
    "\n",
    "\n",
    "\n",
    "\n",
    "\n",
    "\n",
    "\n",
    "\n",
    "\n",
    "\n",
    "\n",
    "\n",
    "\n",
    "\n"
   ]
  }
 ],
 "metadata": {
  "kernelspec": {
   "display_name": "Python 3",
   "language": "python",
   "name": "python3"
  },
  "language_info": {
   "codemirror_mode": {
    "name": "ipython",
    "version": 3
   },
   "file_extension": ".py",
   "mimetype": "text/x-python",
   "name": "python",
   "nbconvert_exporter": "python",
   "pygments_lexer": "ipython3",
   "version": "3.8.3"
  }
 },
 "nbformat": 4,
 "nbformat_minor": 4
}
