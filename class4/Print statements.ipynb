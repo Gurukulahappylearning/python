{
 "cells": [
  {
   "cell_type": "markdown",
   "metadata": {},
   "source": [
    "# Print Statements\n",
    "## Syntax: print(object,seperator,end,file,flush)"
   ]
  },
  {
   "cell_type": "code",
   "execution_count": 3,
   "metadata": {},
   "outputs": [
    {
     "name": "stdout",
     "output_type": "stream",
     "text": [
      "hey buddies\n",
      "hey buddies\n"
     ]
    }
   ],
   "source": [
    "# Expected o/p: hey buddies\n",
    "print(\"hey buddies\")\n",
    "print('hey buddies')"
   ]
  },
  {
   "cell_type": "code",
   "execution_count": 5,
   "metadata": {},
   "outputs": [
    {
     "name": "stdout",
     "output_type": "stream",
     "text": [
      "you're here to learn python\n"
     ]
    }
   ],
   "source": [
    "# Expected o/p: you're here to learn python\n",
    "# print('you're here to learn python)\n",
    "\n",
    "print(\"you're here to learn python\")"
   ]
  },
  {
   "cell_type": "code",
   "execution_count": 10,
   "metadata": {},
   "outputs": [
    {
     "name": "stdout",
     "output_type": "stream",
     "text": [
      "\"you are here to learn python\"\n"
     ]
    }
   ],
   "source": [
    "# Expected o/p: \"you are here to learn python\"\n",
    "# print(\"\"you are here to learn python\"\")\n",
    "print('\"you are here to learn python\"')\n"
   ]
  },
  {
   "cell_type": "code",
   "execution_count": 13,
   "metadata": {},
   "outputs": [
    {
     "name": "stdout",
     "output_type": "stream",
     "text": [
      "\"you're here to learn python\"\n"
     ]
    }
   ],
   "source": [
    "# Expected o/p: \"you're here to learn python\"\n",
    "# print(\"you're here to learn python\")\n",
    "print('\"you\\'re here to learn python\"')\n"
   ]
  },
  {
   "cell_type": "code",
   "execution_count": 18,
   "metadata": {},
   "outputs": [
    {
     "name": "stdout",
     "output_type": "stream",
     "text": [
      "welcome\n",
      "to\n",
      "GURUKULA\n",
      "welcome\n",
      "to\n",
      "GURUKULA\n"
     ]
    }
   ],
   "source": [
    "# Expected o/p: \n",
    "# welcome \n",
    "# to \n",
    "# GURUKULA\n",
    "print(\"welcome\")\n",
    "print(\"to\")\n",
    "print(\"GURUKULA\")\n",
    "print(\"welcome\\nto\\nGURUKULA\")"
   ]
  },
  {
   "cell_type": "code",
   "execution_count": 30,
   "metadata": {},
   "outputs": [
    {
     "name": "stdout",
     "output_type": "stream",
     "text": [
      "Name:sakthi\n",
      "Gender:Male\n",
      "Name\t:\tsakthi\n",
      "Gender\t:\tMale\n"
     ]
    }
   ],
   "source": [
    "# Expected o/p:\n",
    "#                 Name         :     sakthi\n",
    "#                 Gender       :     Male\n",
    "print(\"Name:sakthi\\nGender:Male\")\n",
    "print(\"Name\\t:\\tsakthi\\nGender\\t:\\tMale\")"
   ]
  },
  {
   "cell_type": "code",
   "execution_count": 35,
   "metadata": {},
   "outputs": [
    {
     "name": "stdout",
     "output_type": "stream",
     "text": [
      "happy learning\n",
      "happy_learning\n",
      "happy + learning\n",
      "happylearning\n"
     ]
    }
   ],
   "source": [
    "# Expected o/p :\n",
    "# happy learning\n",
    "# happy_learning\n",
    "# happy + learning\n",
    "# happylearning\n",
    "print(\"happy\",\"learning\") \n",
    "print(\"happy\",\"learning\",sep=\"_\")\n",
    "print(\"happy\",\"learning\",sep=\" + \")\n",
    "print(\"happy\",\"learning\",sep=\"\")\n",
    "\n"
   ]
  },
  {
   "cell_type": "code",
   "execution_count": 45,
   "metadata": {},
   "outputs": [
    {
     "name": "stdout",
     "output_type": "stream",
     "text": [
      "welcome to GURUKULA."
     ]
    }
   ],
   "source": [
    "# Expected o/p:\n",
    "\n",
    "# use three print statement to get out output welcome to gurukula in a single line.\n",
    "print(\"welcome\",end=\" \")\n",
    "print(\"to\",end=\" \")\n",
    "print(\"GURUKULA\",end=\".\")\n",
    "# welcome to GURUKULA\n",
    "#     * python series.\n",
    "#     * Tips and tricks\n"
   ]
  },
  {
   "cell_type": "code",
   "execution_count": 47,
   "metadata": {},
   "outputs": [
    {
     "name": "stdout",
     "output_type": "stream",
     "text": [
      "welcome to gurukula\n",
      "\t*python series\n",
      "\t*tips and tricks\n"
     ]
    }
   ],
   "source": [
    "print(\"welcome to gurukula\",end=\"\\n\\t*\")\n",
    "print(\"python series\",end=\"\\n\\t*\")\n",
    "print(\"tips and tricks\")\n"
   ]
  },
  {
   "cell_type": "markdown",
   "metadata": {},
   "source": [
    "__♥__♥_____♥__♥___ Put This\n",
    "_♥_____♥_♥_____♥__ Heart\n",
    "_♥______♥______♥__ On Your\n",
    "__♥_____/______♥__ Page If\n",
    "___♥____\\_____♥___ You Had\n",
    "____♥___/___♥_____ Your Heart\n",
    "______♥_\\_♥_______ Broken\n",
    "________♥_________…………….\n"
   ]
  },
  {
   "cell_type": "code",
   "execution_count": 49,
   "metadata": {},
   "outputs": [
    {
     "ename": "SyntaxError",
     "evalue": "EOL while scanning string literal (<ipython-input-49-c2a1c0c8ed38>, line 1)",
     "output_type": "error",
     "traceback": [
      "\u001b[1;36m  File \u001b[1;32m\"<ipython-input-49-c2a1c0c8ed38>\"\u001b[1;36m, line \u001b[1;32m1\u001b[0m\n\u001b[1;33m    print(\"__♥__♥_____♥__♥___ Put This\u001b[0m\n\u001b[1;37m                                      ^\u001b[0m\n\u001b[1;31mSyntaxError\u001b[0m\u001b[1;31m:\u001b[0m EOL while scanning string literal\n"
     ]
    }
   ],
   "source": [
    "print(\"__♥__♥_____♥__♥___ Put This\n",
    "_♥_____♥_♥_____♥__ Heart\n",
    "_♥______♥______♥__ On Your\n",
    "__♥_____/______♥__ Page If\n",
    "___♥____\\_____♥___ You Had\n",
    "____♥___/___♥_____ Your Heart\n",
    "______♥_\\_♥_______ Broken\n",
    "________♥_________…………….\")"
   ]
  },
  {
   "cell_type": "code",
   "execution_count": 50,
   "metadata": {},
   "outputs": [
    {
     "name": "stdout",
     "output_type": "stream",
     "text": [
      "__♥__♥_____♥__♥___ Put This\n",
      "_♥_____♥_♥_____♥__ Heart\n",
      "_♥______♥______♥__ On Your\n",
      "__♥_____/______♥__ Page If\n",
      "___♥____\\_____♥___ You Had\n",
      "____♥___/___♥_____ Your Heart\n",
      "______♥_\\_♥_______ Broken\n",
      "________♥_________…………….\n",
      "\n"
     ]
    }
   ],
   "source": [
    "print(\"\"\"__♥__♥_____♥__♥___ Put This\n",
    "_♥_____♥_♥_____♥__ Heart\n",
    "_♥______♥______♥__ On Your\n",
    "__♥_____/______♥__ Page If\n",
    "___♥____\\_____♥___ You Had\n",
    "____♥___/___♥_____ Your Heart\n",
    "______♥_\\_♥_______ Broken\n",
    "________♥_________…………….\n",
    "\"\"\")"
   ]
  },
  {
   "cell_type": "code",
   "execution_count": null,
   "metadata": {},
   "outputs": [],
   "source": []
  }
 ],
 "metadata": {
  "kernelspec": {
   "display_name": "Python 3",
   "language": "python",
   "name": "python3"
  },
  "language_info": {
   "codemirror_mode": {
    "name": "ipython",
    "version": 3
   },
   "file_extension": ".py",
   "mimetype": "text/x-python",
   "name": "python",
   "nbconvert_exporter": "python",
   "pygments_lexer": "ipython3",
   "version": "3.8.3"
  }
 },
 "nbformat": 4,
 "nbformat_minor": 4
}
