{
 "cells": [
  {
   "cell_type": "code",
   "execution_count": null,
   "metadata": {},
   "outputs": [],
   "source": [
    "# example 1 - number is positive or not"
   ]
  },
  {
   "cell_type": "code",
   "execution_count": 16,
   "metadata": {
    "scrolled": true
   },
   "outputs": [
    {
     "name": "stdout",
     "output_type": "stream",
     "text": [
      "enter your number2\n",
      "this is positive number\n"
     ]
    }
   ],
   "source": [
    "number=int(input(\"enter your number\"))\n",
    "if number < 0:\n",
    "    print(\"this is negative number\")\n",
    "if number >0 :\n",
    "    print(\"this is positive number\")"
   ]
  },
  {
   "cell_type": "code",
   "execution_count": 18,
   "metadata": {},
   "outputs": [
    {
     "name": "stdout",
     "output_type": "stream",
     "text": [
      "enter your number-2\n",
      "this is negative number\n"
     ]
    }
   ],
   "source": [
    "number=int(input(\"enter your number\"))\n",
    "if number < 0:\n",
    "    print(\"this is negative number\")\n",
    "else:\n",
    "    print(\"this is positive number\")"
   ]
  }
 ],
 "metadata": {
  "kernelspec": {
   "display_name": "Python 3",
   "language": "python",
   "name": "python3"
  },
  "language_info": {
   "codemirror_mode": {
    "name": "ipython",
    "version": 3
   },
   "file_extension": ".py",
   "mimetype": "text/x-python",
   "name": "python",
   "nbconvert_exporter": "python",
   "pygments_lexer": "ipython3",
   "version": "3.8.3"
  }
 },
 "nbformat": 4,
 "nbformat_minor": 4
}
