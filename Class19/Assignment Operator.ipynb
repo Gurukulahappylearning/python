{
 "cells": [
  {
   "cell_type": "code",
   "execution_count": null,
   "metadata": {},
   "outputs": [],
   "source": [
    "# what is assignment operator?"
   ]
  },
  {
   "cell_type": "code",
   "execution_count": null,
   "metadata": {},
   "outputs": [],
   "source": [
    "# what are all assignment operator."
   ]
  },
  {
   "cell_type": "code",
   "execution_count": 1,
   "metadata": {
    "scrolled": true
   },
   "outputs": [
    {
     "name": "stdout",
     "output_type": "stream",
     "text": [
      "10 20\n",
      "20 20\n"
     ]
    }
   ],
   "source": [
    "# example of printing a value.\n",
    "a=10\n",
    "b=20\n",
    "print(a,b)\n",
    "a=b\n",
    "print(a,b)"
   ]
  },
  {
   "cell_type": "code",
   "execution_count": 2,
   "metadata": {},
   "outputs": [
    {
     "name": "stdout",
     "output_type": "stream",
     "text": [
      "10 20\n",
      "30 20\n"
     ]
    }
   ],
   "source": [
    "a=10\n",
    "b=20\n",
    "print(a,b)\n",
    "a=a+b\n",
    "print(a,b)"
   ]
  },
  {
   "cell_type": "code",
   "execution_count": 3,
   "metadata": {
    "scrolled": true
   },
   "outputs": [
    {
     "name": "stdout",
     "output_type": "stream",
     "text": [
      "10 20\n",
      "30 20\n"
     ]
    }
   ],
   "source": [
    "# add and assign\n",
    "a=10\n",
    "b=20\n",
    "print(a,b)\n",
    "a+=b\n",
    "print(a,b)"
   ]
  },
  {
   "cell_type": "code",
   "execution_count": 6,
   "metadata": {},
   "outputs": [
    {
     "name": "stdout",
     "output_type": "stream",
     "text": [
      "10.2 20.2\n",
      "20.2 20.2\n"
     ]
    }
   ],
   "source": [
    "a=10.2\n",
    "b=20.2\n",
    "print(a,b)\n",
    "a+=10\n",
    "print(a,b)"
   ]
  },
  {
   "cell_type": "code",
   "execution_count": 5,
   "metadata": {},
   "outputs": [
    {
     "name": "stdout",
     "output_type": "stream",
     "text": [
      "10 20 0\n",
      "10 20 30\n"
     ]
    }
   ],
   "source": [
    "a=10\n",
    "b=20\n",
    "c=0\n",
    "print(a,b,c)\n",
    "c+=a+b\n",
    "print(a,b,c)"
   ]
  },
  {
   "cell_type": "code",
   "execution_count": 7,
   "metadata": {},
   "outputs": [
    {
     "name": "stdout",
     "output_type": "stream",
     "text": [
      "10 20\n",
      "-10 20\n"
     ]
    }
   ],
   "source": [
    "# subtract and assign\n",
    "a=10\n",
    "b=20\n",
    "print(a,b)\n",
    "a-=b\n",
    "print(a,b)"
   ]
  },
  {
   "cell_type": "code",
   "execution_count": 8,
   "metadata": {},
   "outputs": [
    {
     "name": "stdout",
     "output_type": "stream",
     "text": [
      "10 20 0\n",
      "10 20 -30\n"
     ]
    }
   ],
   "source": [
    "a=10\n",
    "b=20\n",
    "c=0\n",
    "print(a,b,c)\n",
    "c-=a+b\n",
    "print(a,b,c)"
   ]
  },
  {
   "cell_type": "code",
   "execution_count": 9,
   "metadata": {},
   "outputs": [
    {
     "name": "stdout",
     "output_type": "stream",
     "text": [
      "10 20\n",
      "200 20\n"
     ]
    }
   ],
   "source": [
    "# multiply and assign\n",
    "a=10\n",
    "b=20\n",
    "print(a,b)\n",
    "a*=b\n",
    "print(a,b)"
   ]
  },
  {
   "cell_type": "code",
   "execution_count": 10,
   "metadata": {},
   "outputs": [
    {
     "name": "stdout",
     "output_type": "stream",
     "text": [
      "20 10\n",
      "2.0 10\n"
     ]
    }
   ],
   "source": [
    "# divide and assign\n",
    "a=20\n",
    "b=10\n",
    "print(a,b)\n",
    "a/=b\n",
    "print(a,b)"
   ]
  },
  {
   "cell_type": "code",
   "execution_count": 11,
   "metadata": {},
   "outputs": [
    {
     "name": "stdout",
     "output_type": "stream",
     "text": [
      "20 10\n",
      "2 10\n"
     ]
    }
   ],
   "source": [
    "# floor division and assign\n",
    "a=20\n",
    "b=10\n",
    "print(a,b)\n",
    "a//=b\n",
    "print(a,b)"
   ]
  },
  {
   "cell_type": "code",
   "execution_count": 12,
   "metadata": {},
   "outputs": [
    {
     "name": "stdout",
     "output_type": "stream",
     "text": [
      "20 10\n",
      "0 10\n"
     ]
    }
   ],
   "source": [
    "# modulo and assign\n",
    "a=20\n",
    "b=10\n",
    "print(a,b)\n",
    "a%=b\n",
    "print(a,b)"
   ]
  },
  {
   "cell_type": "code",
   "execution_count": 13,
   "metadata": {},
   "outputs": [
    {
     "name": "stdout",
     "output_type": "stream",
     "text": [
      "2 3\n",
      "8 3\n"
     ]
    }
   ],
   "source": [
    "# exponentialand assign\n",
    "c=2\n",
    "d=3\n",
    "print(c,d)\n",
    "c**=d\n",
    "print(c,d)"
   ]
  },
  {
   "cell_type": "code",
   "execution_count": null,
   "metadata": {},
   "outputs": [],
   "source": [
    "# types of assignment operator."
   ]
  }
 ],
 "metadata": {
  "kernelspec": {
   "display_name": "Python 3",
   "language": "python",
   "name": "python3"
  },
  "language_info": {
   "codemirror_mode": {
    "name": "ipython",
    "version": 3
   },
   "file_extension": ".py",
   "mimetype": "text/x-python",
   "name": "python",
   "nbconvert_exporter": "python",
   "pygments_lexer": "ipython3",
   "version": "3.8.3"
  }
 },
 "nbformat": 4,
 "nbformat_minor": 4
}
