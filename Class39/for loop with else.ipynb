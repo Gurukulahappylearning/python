{
 "cells": [
  {
   "cell_type": "code",
   "execution_count": null,
   "metadata": {},
   "outputs": [],
   "source": [
    "# for loop with else "
   ]
  },
  {
   "cell_type": "code",
   "execution_count": null,
   "metadata": {},
   "outputs": [],
   "source": [
    "# syntax"
   ]
  },
  {
   "cell_type": "code",
   "execution_count": 1,
   "metadata": {},
   "outputs": [
    {
     "name": "stdout",
     "output_type": "stream",
     "text": [
      "0\n",
      "1\n",
      "2\n",
      "3\n",
      "4\n",
      "i am from else block\n"
     ]
    }
   ],
   "source": [
    "# for with else part\n",
    "\n",
    "for x in range(0,5):\n",
    "    print(x)\n",
    "else:\n",
    "    print(\"i am from else block\")"
   ]
  },
  {
   "cell_type": "code",
   "execution_count": 3,
   "metadata": {},
   "outputs": [
    {
     "name": "stdout",
     "output_type": "stream",
     "text": [
      "g\n",
      "u\n",
      "r\n",
      "u\n",
      "k\n",
      "u\n",
      "l\n",
      "a\n",
      "I am from else part\n",
      "program terminated\n"
     ]
    }
   ],
   "source": [
    "# passing a string\n",
    "a=\"gurukula\"\n",
    "for i in a:\n",
    "    print(i)\n",
    "else:\n",
    "    print(\"I am from else part\")\n",
    "print(\"program terminated\")"
   ]
  },
  {
   "cell_type": "code",
   "execution_count": 4,
   "metadata": {},
   "outputs": [
    {
     "name": "stdout",
     "output_type": "stream",
     "text": [
      "gurukula\n",
      "happy learning\n",
      "20\n",
      "I am from else part\n",
      "program terminated\n"
     ]
    }
   ],
   "source": [
    "# passing a list\n",
    "a=[\"gurukula\",\"happy learning\",20]\n",
    "for i in a:\n",
    "    print(i)\n",
    "else:\n",
    "    print(\"I am from else part\")\n",
    "print(\"program terminated\")"
   ]
  },
  {
   "cell_type": "code",
   "execution_count": 7,
   "metadata": {},
   "outputs": [
    {
     "name": "stdout",
     "output_type": "stream",
     "text": [
      "5\n",
      "10\n",
      "15\n",
      "20\n"
     ]
    }
   ],
   "source": [
    "# for with if\n",
    "for i in range(1,21):\n",
    "    if(i%5==0):\n",
    "        print(i)"
   ]
  },
  {
   "cell_type": "code",
   "execution_count": 8,
   "metadata": {},
   "outputs": [
    {
     "name": "stdout",
     "output_type": "stream",
     "text": [
      "1 not divisible by 5\n",
      "2 not divisible by 5\n",
      "3 not divisible by 5\n",
      "4 not divisible by 5\n",
      "5 divisible by 5\n",
      "6 not divisible by 5\n",
      "7 not divisible by 5\n",
      "8 not divisible by 5\n",
      "9 not divisible by 5\n",
      "10 divisible by 5\n",
      "11 not divisible by 5\n",
      "12 not divisible by 5\n",
      "13 not divisible by 5\n",
      "14 not divisible by 5\n",
      "15 divisible by 5\n",
      "16 not divisible by 5\n",
      "17 not divisible by 5\n",
      "18 not divisible by 5\n",
      "19 not divisible by 5\n",
      "20 divisible by 5\n"
     ]
    }
   ],
   "source": [
    "# for with if else part\n",
    "for i in range(1,21):\n",
    "    if(i%5==0):\n",
    "        print(i,\"divisible by 5\")\n",
    "    else:\n",
    "        print(i,\"not divisible by 5\")"
   ]
  }
 ],
 "metadata": {
  "kernelspec": {
   "display_name": "Python 3",
   "language": "python",
   "name": "python3"
  },
  "language_info": {
   "codemirror_mode": {
    "name": "ipython",
    "version": 3
   },
   "file_extension": ".py",
   "mimetype": "text/x-python",
   "name": "python",
   "nbconvert_exporter": "python",
   "pygments_lexer": "ipython3",
   "version": "3.8.3"
  }
 },
 "nbformat": 4,
 "nbformat_minor": 4
}
