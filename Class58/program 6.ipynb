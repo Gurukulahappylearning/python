{
 "cells": [
  {
   "cell_type": "code",
   "execution_count": null,
   "metadata": {},
   "outputs": [],
   "source": [
    "# example 1 - average of given 5 numbers"
   ]
  },
  {
   "cell_type": "code",
   "execution_count": 1,
   "metadata": {
    "scrolled": true
   },
   "outputs": [
    {
     "name": "stdout",
     "output_type": "stream",
     "text": [
      "average of: 20.0\n"
     ]
    }
   ],
   "source": [
    "n1=10\n",
    "n2=20\n",
    "n3=30\n",
    "print(\"average of:\",(n1+n2+n3)/3)"
   ]
  },
  {
   "cell_type": "code",
   "execution_count": 2,
   "metadata": {},
   "outputs": [
    {
     "name": "stdout",
     "output_type": "stream",
     "text": [
      "enter first number:10\n",
      "enter second number:20\n",
      "enter third number:30\n",
      "average of: 20.0\n"
     ]
    }
   ],
   "source": [
    "n1=int(input(\"enter first number:\"))\n",
    "n2=int(input(\"enter second number:\"))\n",
    "n3=int(input(\"enter third number:\"))\n",
    "print(\"average of:\",(n1+n2+n3)/3)"
   ]
  },
  {
   "cell_type": "code",
   "execution_count": null,
   "metadata": {},
   "outputs": [],
   "source": [
    "# example 2 - average of given n numbers"
   ]
  },
  {
   "cell_type": "code",
   "execution_count": 3,
   "metadata": {},
   "outputs": [
    {
     "name": "stdout",
     "output_type": "stream",
     "text": [
      "for how many numbers you want to find average:5\n",
      "enter your value:1\n",
      "enter your value:2\n",
      "enter your value:3\n",
      "enter your value:4\n",
      "enter your value:5\n",
      "average value is: 3.0\n"
     ]
    }
   ],
   "source": [
    "n=int(input(\"for how many numbers you want to find average:\"))\n",
    "a=[]\n",
    "for i in range (0,n):\n",
    "    element=int(input(\"enter your value:\"))\n",
    "    a.append(element)\n",
    "average=sum(a)/n\n",
    "print(\"average value is:\",average)"
   ]
  }
 ],
 "metadata": {
  "kernelspec": {
   "display_name": "Python 3",
   "language": "python",
   "name": "python3"
  },
  "language_info": {
   "codemirror_mode": {
    "name": "ipython",
    "version": 3
   },
   "file_extension": ".py",
   "mimetype": "text/x-python",
   "name": "python",
   "nbconvert_exporter": "python",
   "pygments_lexer": "ipython3",
   "version": "3.8.3"
  }
 },
 "nbformat": 4,
 "nbformat_minor": 4
}
