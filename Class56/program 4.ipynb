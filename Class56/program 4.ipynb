{
 "cells": [
  {
   "cell_type": "code",
   "execution_count": null,
   "metadata": {},
   "outputs": [],
   "source": [
    "# exampe 1: alphabet or not"
   ]
  },
  {
   "cell_type": "code",
   "execution_count": 6,
   "metadata": {
    "scrolled": true
   },
   "outputs": [
    {
     "name": "stdout",
     "output_type": "stream",
     "text": [
      "enter your character:A\n",
      "A is not an alphabet\n"
     ]
    }
   ],
   "source": [
    "ch=input(\"enter your character:\")\n",
    "if(ch>='a' and ch <='z'):\n",
    "    print(ch,\" is an alphabet\")\n",
    "else:\n",
    "    print(ch,\"is not an alphabet\")\n"
   ]
  },
  {
   "cell_type": "code",
   "execution_count": 7,
   "metadata": {},
   "outputs": [
    {
     "name": "stdout",
     "output_type": "stream",
     "text": [
      "enter your character:A\n",
      "A  is an alphabet\n"
     ]
    }
   ],
   "source": [
    "ch=input(\"enter your character:\")\n",
    "if(ch>='a' and ch <='z') or (ch>='A' and ch <='Z') :\n",
    "    print(ch,\" is an alphabet\")\n",
    "else:\n",
    "    print(ch,\"is not an alphabet\")"
   ]
  },
  {
   "cell_type": "code",
   "execution_count": null,
   "metadata": {},
   "outputs": [],
   "source": [
    "# example 2 : vowel or consonant"
   ]
  },
  {
   "cell_type": "code",
   "execution_count": 12,
   "metadata": {},
   "outputs": [
    {
     "name": "stdout",
     "output_type": "stream",
     "text": [
      "enter your character:A\n",
      "A is consonant\n"
     ]
    }
   ],
   "source": [
    "ch=input(\"enter your character:\")\n",
    "if(ch==\"a\" or ch==\"e\" or ch==\"i\" or ch==\"o\" or ch==\"u\"):\n",
    "    print(ch,\"is vowel\")\n",
    "else:\n",
    "    print(ch,\"is consonant\")"
   ]
  },
  {
   "cell_type": "code",
   "execution_count": 13,
   "metadata": {},
   "outputs": [
    {
     "name": "stdout",
     "output_type": "stream",
     "text": [
      "enter your character:A\n",
      "A is vowel\n"
     ]
    }
   ],
   "source": [
    "\n",
    "ch=input(\"enter your character:\")\n",
    "if(ch==\"a\" or ch==\"e\" or ch==\"i\" or ch==\"o\" or ch==\"u\") or (ch==\"A\" or ch==\"E\" or ch==\"I\" or ch==\"O\" or ch==\"U\"):\n",
    "    print(ch,\"is vowel\")\n",
    "else:\n",
    "    print(ch,\"is consonant\")"
   ]
  }
 ],
 "metadata": {
  "kernelspec": {
   "display_name": "Python 3",
   "language": "python",
   "name": "python3"
  },
  "language_info": {
   "codemirror_mode": {
    "name": "ipython",
    "version": 3
   },
   "file_extension": ".py",
   "mimetype": "text/x-python",
   "name": "python",
   "nbconvert_exporter": "python",
   "pygments_lexer": "ipython3",
   "version": "3.8.3"
  }
 },
 "nbformat": 4,
 "nbformat_minor": 4
}
