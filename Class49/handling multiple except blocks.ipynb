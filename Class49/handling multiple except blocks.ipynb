{
 "cells": [
  {
   "cell_type": "code",
   "execution_count": null,
   "metadata": {},
   "outputs": [],
   "source": [
    "# Example"
   ]
  },
  {
   "cell_type": "code",
   "execution_count": 2,
   "metadata": {
    "scrolled": true
   },
   "outputs": [
    {
     "name": "stdout",
     "output_type": "stream",
     "text": [
      "the number cannot be divided by zero... please provide  valid number\n"
     ]
    }
   ],
   "source": [
    "a=10\n",
    "b=0\n",
    "try:\n",
    "    print(\"the value is :\",a/b)\n",
    "except:\n",
    "    print(\"the number cannot be divided by zero... please provide  valid number\")"
   ]
  },
  {
   "cell_type": "code",
   "execution_count": 7,
   "metadata": {
    "scrolled": true
   },
   "outputs": [
    {
     "name": "stdout",
     "output_type": "stream",
     "text": [
      "enter first number:12\n",
      "enter second number:0\n",
      "error occured\n"
     ]
    }
   ],
   "source": [
    "try:\n",
    "    a=int(input(\"enter first number:\"))\n",
    "    b=int(input(\"enter second number:\"))\n",
    "    print(\"result:\",a/b)\n",
    "except:\n",
    "        print(\"error occured\")"
   ]
  },
  {
   "cell_type": "code",
   "execution_count": 11,
   "metadata": {
    "scrolled": true
   },
   "outputs": [
    {
     "name": "stdout",
     "output_type": "stream",
     "text": [
      "enter first number:12\n",
      "enter second number:0\n",
      "cannot be divided by zero\n"
     ]
    }
   ],
   "source": [
    "try:\n",
    "    a=int(input(\"enter first number:\"))\n",
    "    b=int(input(\"enter second number:\"))\n",
    "    print(\"result:\",a/b)\n",
    "except ZeroDivisionError:\n",
    "    print(\"cannot be divided by zero\")\n",
    "except ValueError:\n",
    "    print(\"alphabet cannot be entered\")"
   ]
  },
  {
   "cell_type": "code",
   "execution_count": 15,
   "metadata": {},
   "outputs": [
    {
     "name": "stdout",
     "output_type": "stream",
     "text": [
      "enter first number:12\n",
      "enter second number:2\n",
      "error\n"
     ]
    }
   ],
   "source": [
    "try:\n",
    "    a=int(input(\"enter first number:\"))\n",
    "    b=int(input(\"enter second number:\"))\n",
    "    print1(\"result:\",a/b)\n",
    "except ZeroDivisionError:\n",
    "    print(\"cannot be divided by zero\")\n",
    "except ValueError:\n",
    "    print(\"alphabet cannot be entered\")\n",
    "except:\n",
    "    print(\"error\")"
   ]
  },
  {
   "cell_type": "code",
   "execution_count": 14,
   "metadata": {},
   "outputs": [
    {
     "name": "stdout",
     "output_type": "stream",
     "text": [
      "enter first number:12\n",
      "enter second number:a\n",
      "error\n"
     ]
    }
   ],
   "source": [
    "try:\n",
    "    a=int(input(\"enter first number:\"))\n",
    "    b=int(input(\"enter second number:\"))\n",
    "    print(\"result:\",a/b)\n",
    "except ZeroDivisionError:\n",
    "    print(\"cannot be divided by zero\")\n",
    "except:\n",
    "    print(\"error\")"
   ]
  }
 ],
 "metadata": {
  "kernelspec": {
   "display_name": "Python 3",
   "language": "python",
   "name": "python3"
  },
  "language_info": {
   "codemirror_mode": {
    "name": "ipython",
    "version": 3
   },
   "file_extension": ".py",
   "mimetype": "text/x-python",
   "name": "python",
   "nbconvert_exporter": "python",
   "pygments_lexer": "ipython3",
   "version": "3.8.3"
  }
 },
 "nbformat": 4,
 "nbformat_minor": 4
}
