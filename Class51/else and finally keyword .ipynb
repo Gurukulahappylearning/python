{
 "cells": [
  {
   "cell_type": "code",
   "execution_count": null,
   "metadata": {},
   "outputs": [],
   "source": [
    "# else part example"
   ]
  },
  {
   "cell_type": "code",
   "execution_count": 7,
   "metadata": {
    "scrolled": true
   },
   "outputs": [
    {
     "name": "stdout",
     "output_type": "stream",
     "text": [
      "enter number 1:12\n",
      "enter number 2:a\n",
      "alphabet cannot be divided.\n"
     ]
    }
   ],
   "source": [
    "try:\n",
    "    a=int(input(\"enter number 1:\"))\n",
    "    b=int(input(\"enter number 2:\"))\n",
    "    result=a/b\n",
    "    print(\"your answer is:\",result)\n",
    "except ZeroDivisionError:\n",
    "    print(\"cannot be divided by zero.\")\n",
    "except ValueError:\n",
    "    print(\"alphabet cannot be divided.\")\n",
    "   "
   ]
  },
  {
   "cell_type": "code",
   "execution_count": 13,
   "metadata": {
    "scrolled": true
   },
   "outputs": [
    {
     "name": "stdout",
     "output_type": "stream",
     "text": [
      "enter number 1:12\n",
      "enter number 2:2\n",
      "your answer is: 6.0\n"
     ]
    }
   ],
   "source": [
    "a=int(input(\"enter number 1:\"))\n",
    "b=int(input(\"enter number 2:\"))\n",
    "try:\n",
    "    result=a/b   \n",
    "except ZeroDivisionError:\n",
    "    print(\"cannot be divided by zero.\")\n",
    "except ValueError:\n",
    "    print(\"alphabet cannot be divided.\")\n",
    "else:\n",
    "    print(\"your answer is:\",result)"
   ]
  },
  {
   "cell_type": "code",
   "execution_count": 23,
   "metadata": {},
   "outputs": [
    {
     "name": "stdout",
     "output_type": "stream",
     "text": [
      "enter a file name:sample\n",
      "hai buddy how are you\n"
     ]
    }
   ],
   "source": [
    "filename=input(\"enter a file name:\")\n",
    "try:\n",
    "    fobj=open(filename)\n",
    "    content=fobj.read()\n",
    "except FileNotFoundError:\n",
    "    print(\"file not found\")\n",
    "else:\n",
    "    print(content)\n",
    "    fobj.close()"
   ]
  },
  {
   "cell_type": "code",
   "execution_count": null,
   "metadata": {},
   "outputs": [],
   "source": [
    "# finally part example"
   ]
  },
  {
   "cell_type": "code",
   "execution_count": 22,
   "metadata": {},
   "outputs": [
    {
     "name": "stdout",
     "output_type": "stream",
     "text": [
      "enter number 1:12\n",
      "enter number 2:0\n",
      "cannot be divided by zero.\n",
      "terminated\n"
     ]
    }
   ],
   "source": [
    "try:\n",
    "    a=int(input(\"enter number 1:\"))\n",
    "    b=int(input(\"enter number 2:\"))\n",
    "    result=a/b\n",
    "    print(\"your answer is:\",result)\n",
    "except ZeroDivisionError:\n",
    "    print(\"cannot be divided by zero.\")\n",
    "except ValueError:\n",
    "    print(\"alphabet cannot be divided.\")\n",
    "finally:\n",
    "    print(\"terminated\")"
   ]
  },
  {
   "cell_type": "code",
   "execution_count": null,
   "metadata": {},
   "outputs": [],
   "source": [
    "# else and finally part with example"
   ]
  },
  {
   "cell_type": "code",
   "execution_count": 24,
   "metadata": {},
   "outputs": [
    {
     "name": "stdout",
     "output_type": "stream",
     "text": [
      "enter number 1:12\n",
      "enter number 2:0\n",
      "cannot be divided by zero.\n",
      "program terminated\n"
     ]
    }
   ],
   "source": [
    "a=int(input(\"enter number 1:\"))\n",
    "b=int(input(\"enter number 2:\"))\n",
    "try:\n",
    "    result=a/b   \n",
    "except ZeroDivisionError:\n",
    "    print(\"cannot be divided by zero.\")\n",
    "except ValueError:\n",
    "    print(\"alphabet cannot be divided.\")\n",
    "else:\n",
    "    print(\"your answer is:\",result)\n",
    "finally:\n",
    "    print(\"program terminated\")"
   ]
  }
 ],
 "metadata": {
  "kernelspec": {
   "display_name": "Python 3",
   "language": "python",
   "name": "python3"
  },
  "language_info": {
   "codemirror_mode": {
    "name": "ipython",
    "version": 3
   },
   "file_extension": ".py",
   "mimetype": "text/x-python",
   "name": "python",
   "nbconvert_exporter": "python",
   "pygments_lexer": "ipython3",
   "version": "3.8.3"
  }
 },
 "nbformat": 4,
 "nbformat_minor": 4
}
