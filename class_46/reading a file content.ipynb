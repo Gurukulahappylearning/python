{
 "cells": [
  {
   "cell_type": "code",
   "execution_count": 1,
   "metadata": {},
   "outputs": [],
   "source": [
    "# ceating a file\n",
    "f=open(\"new\",\"x\")\n",
    "f.close()"
   ]
  },
  {
   "cell_type": "code",
   "execution_count": 2,
   "metadata": {},
   "outputs": [],
   "source": [
    "# writing a content to a file\n",
    "f1=open(\"new\",\"w\")\n",
    "f1.write(\"hey\")\n",
    "f1.write(\"how are you?\")\n",
    "f1.write(\"hope you are fine\")\n",
    "f1.close()"
   ]
  },
  {
   "cell_type": "code",
   "execution_count": 3,
   "metadata": {},
   "outputs": [],
   "source": [
    "# reading a file\n",
    "f2=open(\"new\",\"r\")\n",
    "f2.read()\n",
    "f2.close()"
   ]
  },
  {
   "cell_type": "code",
   "execution_count": 4,
   "metadata": {},
   "outputs": [
    {
     "name": "stdout",
     "output_type": "stream",
     "text": [
      "hey\n",
      "how are you?\n",
      "hope you are fine\n"
     ]
    }
   ],
   "source": [
    "f2=open(\"new\",\"r\")\n",
    "print(f2.read())\n",
    "f2.close()"
   ]
  },
  {
   "cell_type": "code",
   "execution_count": 5,
   "metadata": {},
   "outputs": [
    {
     "name": "stdout",
     "output_type": "stream",
     "text": [
      "['hey\\n', 'how are you?\\n', 'hope you are fine']\n"
     ]
    }
   ],
   "source": [
    "# readlines\n",
    "f2=open(\"new\",\"r\")\n",
    "print(f2.readlines())"
   ]
  },
  {
   "cell_type": "code",
   "execution_count": 10,
   "metadata": {},
   "outputs": [
    {
     "name": "stdout",
     "output_type": "stream",
     "text": [
      "hey\n",
      "how are you?\n",
      "hope you are fine\n"
     ]
    }
   ],
   "source": [
    "# readline\n",
    "f2=open(\"new\",\"r\")\n",
    "print(f2.readline(),end=\"\")\n",
    "print(f2.readline(),end=\"\")\n",
    "print(f2.readline())"
   ]
  },
  {
   "cell_type": "code",
   "execution_count": 27,
   "metadata": {
    "scrolled": false
   },
   "outputs": [
    {
     "name": "stdout",
     "output_type": "stream",
     "text": [
      "he\n",
      "y\n",
      "\n",
      "how\n"
     ]
    }
   ],
   "source": [
    "#  readline with numerical parameter\n",
    "f2=open(\"new\",\"r\")\n",
    "print(f2.readline(2))\n",
    "print(f2.readline(2))\n",
    "print(f2.readline(3))"
   ]
  },
  {
   "cell_type": "code",
   "execution_count": 28,
   "metadata": {},
   "outputs": [
    {
     "name": "stdout",
     "output_type": "stream",
     "text": [
      "hey\n",
      "\n",
      "how are you?\n",
      "\n",
      "hope you are fine\n"
     ]
    }
   ],
   "source": [
    "#  looping through \n",
    "f2=open(\"new\",\"r\")\n",
    "for data in f2:\n",
    "    print(data)"
   ]
  },
  {
   "cell_type": "code",
   "execution_count": 31,
   "metadata": {},
   "outputs": [],
   "source": [
    "# example\n",
    "f2=open(\"new\",\"r\")\n",
    "w2=open(\"newwrittenfile\",\"w\")\n",
    "for data in f2:\n",
    "    w2.write(data)"
   ]
  },
  {
   "cell_type": "code",
   "execution_count": 32,
   "metadata": {},
   "outputs": [
    {
     "ename": "FileNotFoundError",
     "evalue": "[Errno 2] No such file or directory: 'demo'",
     "output_type": "error",
     "traceback": [
      "\u001b[1;31m---------------------------------------------------------------------------\u001b[0m",
      "\u001b[1;31mFileNotFoundError\u001b[0m                         Traceback (most recent call last)",
      "\u001b[1;32m<ipython-input-32-5315ad0bb183>\u001b[0m in \u001b[0;36m<module>\u001b[1;34m\u001b[0m\n\u001b[1;32m----> 1\u001b[1;33m \u001b[0mf3\u001b[0m\u001b[1;33m=\u001b[0m\u001b[0mopen\u001b[0m\u001b[1;33m(\u001b[0m\u001b[1;34m\"demo\"\u001b[0m\u001b[1;33m,\u001b[0m\u001b[1;34m\"r\"\u001b[0m\u001b[1;33m)\u001b[0m\u001b[1;33m\u001b[0m\u001b[1;33m\u001b[0m\u001b[0m\n\u001b[0m",
      "\u001b[1;31mFileNotFoundError\u001b[0m: [Errno 2] No such file or directory: 'demo'"
     ]
    }
   ],
   "source": [
    "f3=open(\"demo\",\"r\")"
   ]
  }
 ],
 "metadata": {
  "kernelspec": {
   "display_name": "Python 3",
   "language": "python",
   "name": "python3"
  },
  "language_info": {
   "codemirror_mode": {
    "name": "ipython",
    "version": 3
   },
   "file_extension": ".py",
   "mimetype": "text/x-python",
   "name": "python",
   "nbconvert_exporter": "python",
   "pygments_lexer": "ipython3",
   "version": "3.8.3"
  }
 },
 "nbformat": 4,
 "nbformat_minor": 4
}
