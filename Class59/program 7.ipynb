{
 "cells": [
  {
   "cell_type": "code",
   "execution_count": null,
   "metadata": {},
   "outputs": [],
   "source": [
    "# example 1 - grade based on average"
   ]
  },
  {
   "cell_type": "code",
   "execution_count": 5,
   "metadata": {
    "scrolled": false
   },
   "outputs": [
    {
     "name": "stdout",
     "output_type": "stream",
     "text": [
      "enter your tamil mark:40\n",
      "enter your english mark:40\n",
      "enter your maths mark:40\n",
      "average is: 40.0\n",
      "sorry you are failed\n"
     ]
    }
   ],
   "source": [
    "s1=int(input(\"enter your tamil mark:\"))\n",
    "s2=int(input(\"enter your english mark:\"))\n",
    "s3=int(input(\"enter your maths mark:\"))\n",
    "avg=(s1+s2+s3)/3\n",
    "print(\"average is:\",avg)\n",
    "if(avg>=90):\n",
    "    print(\"A grade\")\n",
    "elif(avg>=80 and avg<90):\n",
    "    print(\"B grade\")\n",
    "elif(avg>=70 and avg<80):\n",
    "    print(\"C grade\")\n",
    "elif (avg>=60 and avg<70):\n",
    "    print(\"D grade\")\n",
    "else:\n",
    "    print(\"sorry you are failed\")"
   ]
  },
  {
   "cell_type": "code",
   "execution_count": 8,
   "metadata": {},
   "outputs": [
    {
     "name": "stdout",
     "output_type": "stream",
     "text": [
      "for how many numbers you want to find average:5\n",
      "enter your value:96\n",
      "enter your value:98\n",
      "enter your value:63\n",
      "enter your value:78\n",
      "enter your value:55\n",
      "average is: 78.0\n",
      "C grade\n"
     ]
    }
   ],
   "source": [
    "n=int(input(\"for how many numbers you want to find average:\"))\n",
    "a=[]\n",
    "for i in range (0,n):\n",
    "    element=int(input(\"enter your value:\"))\n",
    "    a.append(element)\n",
    "avg=sum(a)/n\n",
    "print(\"average is:\",avg)\n",
    "if(avg>=90):\n",
    "    print(\"A grade\")\n",
    "elif(avg>=80 and avg<90):\n",
    "    print(\"B grade\")\n",
    "elif(avg>=70 and avg<80):\n",
    "    print(\"C grade\")\n",
    "elif (avg>=60 and avg<70):\n",
    "    print(\"D grade\")\n",
    "else:\n",
    "    print(\"sorry you are failed\")"
   ]
  }
 ],
 "metadata": {
  "kernelspec": {
   "display_name": "Python 3",
   "language": "python",
   "name": "python3"
  },
  "language_info": {
   "codemirror_mode": {
    "name": "ipython",
    "version": 3
   },
   "file_extension": ".py",
   "mimetype": "text/x-python",
   "name": "python",
   "nbconvert_exporter": "python",
   "pygments_lexer": "ipython3",
   "version": "3.8.3"
  }
 },
 "nbformat": 4,
 "nbformat_minor": 4
}
