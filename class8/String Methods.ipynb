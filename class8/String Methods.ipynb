{
 "cells": [
  {
   "cell_type": "code",
   "execution_count": 1,
   "metadata": {},
   "outputs": [
    {
     "name": "stdout",
     "output_type": "stream",
     "text": [
      "Hey buddies\n"
     ]
    }
   ],
   "source": [
    "# capitalize()\n",
    "a=\"hey buddies\"\n",
    "print(a.capitalize())"
   ]
  },
  {
   "cell_type": "code",
   "execution_count": 2,
   "metadata": {},
   "outputs": [
    {
     "name": "stdout",
     "output_type": "stream",
     "text": [
      "40 is my age\n"
     ]
    }
   ],
   "source": [
    "age=\"40 is my age\"\n",
    "print(age.capitalize())"
   ]
  },
  {
   "cell_type": "code",
   "execution_count": 5,
   "metadata": {},
   "outputs": [
    {
     "name": "stdout",
     "output_type": "stream",
     "text": [
      "1\n",
      "3\n",
      "2\n"
     ]
    }
   ],
   "source": [
    "# count()\n",
    "b=\"welcome to gurukula\"\n",
    "print(b.count(\"welcome\"))\n",
    "print(b.count(\"u\"))\n",
    "print(b.count(\"u\",0,15))"
   ]
  },
  {
   "cell_type": "code",
   "execution_count": 6,
   "metadata": {
    "scrolled": true
   },
   "outputs": [
    {
     "name": "stdout",
     "output_type": "stream",
     "text": [
      "False\n",
      "False\n",
      "True\n"
     ]
    }
   ],
   "source": [
    "# islower() and lower()\n",
    "c=\"pYthon for Toddlers\"\n",
    "d=\"PYTHon for TODDlers\"\n",
    "e=\"python for toddlers\"\n",
    "print(c.islower())\n",
    "print(d.islower())\n",
    "print(e.islower())"
   ]
  },
  {
   "cell_type": "code",
   "execution_count": 7,
   "metadata": {},
   "outputs": [
    {
     "name": "stdout",
     "output_type": "stream",
     "text": [
      "python for toddlers\n",
      "python for toddlers\n",
      "python for toddlers\n"
     ]
    }
   ],
   "source": [
    "c=\"pYthon for Toddlers\"\n",
    "d=\"PYTHon for TODDlers\"\n",
    "e=\"python for toddlers\"\n",
    "print(c.lower())\n",
    "print(d.lower())\n",
    "print(e.lower())"
   ]
  },
  {
   "cell_type": "code",
   "execution_count": 9,
   "metadata": {
    "scrolled": true
   },
   "outputs": [
    {
     "name": "stdout",
     "output_type": "stream",
     "text": [
      "False\n",
      "False\n",
      "True\n"
     ]
    }
   ],
   "source": [
    "# isupper() and upper()\n",
    "c=\"pYthon for Toddlers\"\n",
    "d=\"PYTHon for TODDlers\"\n",
    "e=\"PYTHON FOR TODDLERS\"\n",
    "print(c.isupper())\n",
    "print(d.isupper())\n",
    "print(e.isupper())"
   ]
  },
  {
   "cell_type": "code",
   "execution_count": 10,
   "metadata": {},
   "outputs": [
    {
     "name": "stdout",
     "output_type": "stream",
     "text": [
      "PYTHON FOR TODDLERS\n",
      "PYTHON FOR TODDLERS\n",
      "PYTHON FOR TODDLERS\n"
     ]
    }
   ],
   "source": [
    "# UPPER()\n",
    "c=\"pYthon for Toddlers\"\n",
    "d=\"PYTHon for TODDlers\"\n",
    "e=\"PYTHON FOR TODDLERS\"\n",
    "print(c.upper())\n",
    "print(d.upper())\n",
    "print(e.upper())"
   ]
  },
  {
   "cell_type": "code",
   "execution_count": 11,
   "metadata": {},
   "outputs": [
    {
     "name": "stdout",
     "output_type": "stream",
     "text": [
      "pythON FOR tooDDLERS\n"
     ]
    }
   ],
   "source": [
    "# swapcase()\n",
    "f=\"PYTHon for TOOddlers\"\n",
    "print(f.swapcase())"
   ]
  },
  {
   "cell_type": "code",
   "execution_count": 14,
   "metadata": {
    "scrolled": true
   },
   "outputs": [
    {
     "name": "stdout",
     "output_type": "stream",
     "text": [
      "Welcome To Gurukula\n"
     ]
    }
   ],
   "source": [
    "# istitle() and title()\n",
    "g=\"welcome to gurukula\"\n",
    "print(g.title())"
   ]
  },
  {
   "cell_type": "code",
   "execution_count": 15,
   "metadata": {},
   "outputs": [
    {
     "name": "stdout",
     "output_type": "stream",
     "text": [
      "False\n"
     ]
    }
   ],
   "source": [
    "# istitle()\n",
    "g=\"welcome to gurukula\"\n",
    "print(g.istitle())"
   ]
  },
  {
   "cell_type": "code",
   "execution_count": 19,
   "metadata": {},
   "outputs": [
    {
     "name": "stdout",
     "output_type": "stream",
     "text": [
      "True\n",
      "False\n",
      "True\n",
      "True\n"
     ]
    }
   ],
   "source": [
    "# startswith()\n",
    "var=\"hey how are you??\"\n",
    "print(var.startswith(\"hey\"))\n",
    "print(var.startswith(\"how\"))\n",
    "print(var.startswith(\"he\"))\n",
    "print(var.startswith(\"h\"))"
   ]
  },
  {
   "cell_type": "code",
   "execution_count": 23,
   "metadata": {
    "scrolled": true
   },
   "outputs": [
    {
     "name": "stdout",
     "output_type": "stream",
     "text": [
      "False\n",
      "True\n",
      "True\n",
      "False\n"
     ]
    }
   ],
   "source": [
    "# endswith()\n",
    "var=\"hey how are you??\"\n",
    "print(var.endswith(\"hey\"))\n",
    "print(var.endswith(\"??\"))\n",
    "print(var.endswith(\"?\"))\n",
    "print(var.endswith(\".\"))"
   ]
  },
  {
   "cell_type": "code",
   "execution_count": 25,
   "metadata": {},
   "outputs": [
    {
     "name": "stdout",
     "output_type": "stream",
     "text": [
      "True\n",
      "False\n"
     ]
    }
   ],
   "source": [
    "# isnumeric()\n",
    "num=\"123\"\n",
    "print(num.isnumeric())\n",
    "num1=\"123abc\"\n",
    "print(num1.isnumeric())"
   ]
  },
  {
   "cell_type": "code",
   "execution_count": 28,
   "metadata": {},
   "outputs": [
    {
     "name": "stdout",
     "output_type": "stream",
     "text": [
      "True\n",
      "False\n"
     ]
    }
   ],
   "source": [
    "#isalpha()\n",
    "alp=\"hello\"\n",
    "print(alp.isalpha())\n",
    "alp2=\"hello1\"\n",
    "print(alp2.isalpha())"
   ]
  },
  {
   "cell_type": "code",
   "execution_count": 32,
   "metadata": {},
   "outputs": [
    {
     "name": "stdout",
     "output_type": "stream",
     "text": [
      "True\n",
      "True\n",
      "True\n"
     ]
    }
   ],
   "source": [
    "# isalnum()\n",
    "abc=\"123gurukula\"\n",
    "print(abc.isalnum())\n",
    "alphabet=\"gurukula\"\n",
    "print(alphabet.isalnum())\n",
    "num=\"123\"\n",
    "print(num.isalnum())"
   ]
  },
  {
   "cell_type": "code",
   "execution_count": 39,
   "metadata": {},
   "outputs": [
    {
     "name": "stdout",
     "output_type": "stream",
     "text": [
      "8\n",
      "-1\n"
     ]
    }
   ],
   "source": [
    "# find()\n",
    "txt=\"welcome to gurukula\"\n",
    "print(txt.find(\"to\"))\n",
    "print(txt.find(\"too\"))"
   ]
  },
  {
   "cell_type": "code",
   "execution_count": 42,
   "metadata": {},
   "outputs": [
    {
     "name": "stdout",
     "output_type": "stream",
     "text": [
      "8\n"
     ]
    },
    {
     "ename": "ValueError",
     "evalue": "substring not found",
     "output_type": "error",
     "traceback": [
      "\u001b[1;31m---------------------------------------------------------------------------\u001b[0m",
      "\u001b[1;31mValueError\u001b[0m                                Traceback (most recent call last)",
      "\u001b[1;32m<ipython-input-42-cd8055be32de>\u001b[0m in \u001b[0;36m<module>\u001b[1;34m\u001b[0m\n\u001b[0;32m      2\u001b[0m \u001b[0mtxt\u001b[0m\u001b[1;33m=\u001b[0m\u001b[1;34m\"welcome to gurukula\"\u001b[0m\u001b[1;33m\u001b[0m\u001b[1;33m\u001b[0m\u001b[0m\n\u001b[0;32m      3\u001b[0m \u001b[0mprint\u001b[0m\u001b[1;33m(\u001b[0m\u001b[0mtxt\u001b[0m\u001b[1;33m.\u001b[0m\u001b[0mindex\u001b[0m\u001b[1;33m(\u001b[0m\u001b[1;34m\"to\"\u001b[0m\u001b[1;33m)\u001b[0m\u001b[1;33m)\u001b[0m\u001b[1;33m\u001b[0m\u001b[1;33m\u001b[0m\u001b[0m\n\u001b[1;32m----> 4\u001b[1;33m \u001b[0mprint\u001b[0m\u001b[1;33m(\u001b[0m\u001b[0mtxt\u001b[0m\u001b[1;33m.\u001b[0m\u001b[0mindex\u001b[0m\u001b[1;33m(\u001b[0m\u001b[1;34m\"too\"\u001b[0m\u001b[1;33m)\u001b[0m\u001b[1;33m)\u001b[0m\u001b[1;33m\u001b[0m\u001b[1;33m\u001b[0m\u001b[0m\n\u001b[0m",
      "\u001b[1;31mValueError\u001b[0m: substring not found"
     ]
    }
   ],
   "source": [
    "# index()\n",
    "txt=\"welcome to gurukula\"\n",
    "print(txt.index(\"to\"))\n",
    "print(txt.index(\"too\"))"
   ]
  },
  {
   "cell_type": "code",
   "execution_count": 43,
   "metadata": {
    "scrolled": true
   },
   "outputs": [
    {
     "name": "stdout",
     "output_type": "stream",
     "text": [
      "i like dogs\n"
     ]
    }
   ],
   "source": [
    "# replace()\n",
    "a=\"i love dogs\"\n",
    "print(a.replace(\"love\",\"like\"))"
   ]
  },
  {
   "cell_type": "code",
   "execution_count": 44,
   "metadata": {},
   "outputs": [
    {
     "name": "stdout",
     "output_type": "stream",
     "text": [
      "we love dogs,we love flowers,i love parrots\n"
     ]
    }
   ],
   "source": [
    "b=\"i love dogs,i love flowers,i love parrots\"\n",
    "print(b.replace(\"i\",\"we\",2))"
   ]
  },
  {
   "cell_type": "code",
   "execution_count": 47,
   "metadata": {},
   "outputs": [
    {
     "name": "stdout",
     "output_type": "stream",
     "text": [
      "python\n",
      "python@$$\n",
      "@#$python\n"
     ]
    }
   ],
   "source": [
    "# strip()\n",
    "word=\"@#$python@$$\"\n",
    "print(word.strip(\"@#$\"))\n",
    "print(word.lstrip(\"@#$\"))\n",
    "print(word.rstrip(\"@#$\"))"
   ]
  },
  {
   "cell_type": "code",
   "execution_count": 48,
   "metadata": {
    "scrolled": true
   },
   "outputs": [
    {
     "name": "stdout",
     "output_type": "stream",
     "text": [
      "python$$$$\n"
     ]
    }
   ],
   "source": [
    "# ljust(), rjust() and center()\n",
    "word=\"python\"\n",
    "print(word.ljust(10,'$'))"
   ]
  },
  {
   "cell_type": "code",
   "execution_count": 49,
   "metadata": {
    "scrolled": true
   },
   "outputs": [
    {
     "name": "stdout",
     "output_type": "stream",
     "text": [
      "$$$$python\n"
     ]
    }
   ],
   "source": [
    "word=\"python\"\n",
    "print(word.rjust(10,'$'))"
   ]
  },
  {
   "cell_type": "code",
   "execution_count": 50,
   "metadata": {},
   "outputs": [
    {
     "name": "stdout",
     "output_type": "stream",
     "text": [
      "$$python$$\n"
     ]
    }
   ],
   "source": [
    "word=\"python\"\n",
    "print(word.center(10,'$'))"
   ]
  }
 ],
 "metadata": {
  "kernelspec": {
   "display_name": "Python 3",
   "language": "python",
   "name": "python3"
  },
  "language_info": {
   "codemirror_mode": {
    "name": "ipython",
    "version": 3
   },
   "file_extension": ".py",
   "mimetype": "text/x-python",
   "name": "python",
   "nbconvert_exporter": "python",
   "pygments_lexer": "ipython3",
   "version": "3.8.3"
  }
 },
 "nbformat": 4,
 "nbformat_minor": 4
}
