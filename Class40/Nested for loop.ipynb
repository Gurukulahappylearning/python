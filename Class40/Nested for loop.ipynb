{
 "cells": [
  {
   "cell_type": "code",
   "execution_count": null,
   "metadata": {},
   "outputs": [],
   "source": [
    "# what is nested for loop"
   ]
  },
  {
   "cell_type": "code",
   "execution_count": null,
   "metadata": {},
   "outputs": [],
   "source": [
    "# syntax"
   ]
  },
  {
   "cell_type": "code",
   "execution_count": 10,
   "metadata": {},
   "outputs": [
    {
     "name": "stdout",
     "output_type": "stream",
     "text": [
      "outer loop 0\n",
      "inner loop: happy\n",
      "inner loop: learning\n",
      "outer loop 1\n",
      "inner loop: happy\n",
      "inner loop: learning\n",
      "outer loop 2\n",
      "inner loop: happy\n",
      "inner loop: learning\n"
     ]
    }
   ],
   "source": [
    "# example 1 passing a range function\n",
    "list1=[\"happy\",\"learning\"]\n",
    "for i in range(0,3):\n",
    "    print(\"outer loop\",i)\n",
    "    for j in list1:\n",
    "        print(\"inner loop:\",j)\n"
   ]
  },
  {
   "cell_type": "code",
   "execution_count": 17,
   "metadata": {},
   "outputs": [
    {
     "name": "stdout",
     "output_type": "stream",
     "text": [
      "bmw black\n",
      "bmw white\n",
      "audi black\n",
      "audi white\n"
     ]
    }
   ],
   "source": [
    "# example 2 passing a list\n",
    "list1=[\"bmw\",\"audi\"]\n",
    "list2=[\"black\",\"white\"]\n",
    "for x  in list1:\n",
    "    for y in list2:\n",
    "        print(x,y)"
   ]
  },
  {
   "cell_type": "code",
   "execution_count": null,
   "metadata": {},
   "outputs": [],
   "source": [
    "\n",
    "\n",
    "\n",
    "\n",
    "\n",
    "\n",
    "\n",
    "\n",
    "\n",
    "\n",
    "\n",
    "\n",
    "\n",
    "\n",
    "\n",
    "\n",
    "\n",
    "\n",
    "\n",
    "\n",
    "\n",
    "\n"
   ]
  },
  {
   "cell_type": "code",
   "execution_count": null,
   "metadata": {},
   "outputs": [],
   "source": []
  }
 ],
 "metadata": {
  "kernelspec": {
   "display_name": "Python 3",
   "language": "python",
   "name": "python3"
  },
  "language_info": {
   "codemirror_mode": {
    "name": "ipython",
    "version": 3
   },
   "file_extension": ".py",
   "mimetype": "text/x-python",
   "name": "python",
   "nbconvert_exporter": "python",
   "pygments_lexer": "ipython3",
   "version": "3.8.3"
  }
 },
 "nbformat": 4,
 "nbformat_minor": 4
}
