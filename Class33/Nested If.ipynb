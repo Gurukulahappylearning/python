{
 "cells": [
  {
   "cell_type": "code",
   "execution_count": null,
   "metadata": {},
   "outputs": [],
   "source": [
    "# what is nested if ?"
   ]
  },
  {
   "cell_type": "code",
   "execution_count": null,
   "metadata": {},
   "outputs": [],
   "source": [
    "# syntax"
   ]
  },
  {
   "cell_type": "code",
   "execution_count": 1,
   "metadata": {
    "scrolled": true
   },
   "outputs": [
    {
     "name": "stdout",
     "output_type": "stream",
     "text": [
      "your mark is 90\n"
     ]
    }
   ],
   "source": [
    "# example\n",
    "name= \"sakthi\"\n",
    "regno=1\n",
    "marks=90\n",
    "if(name==\"sakthi\"):\n",
    "    if(regno==1):\n",
    "        print(\"your mark is\",marks)\n",
    "        "
   ]
  },
  {
   "cell_type": "code",
   "execution_count": 3,
   "metadata": {
    "scrolled": true
   },
   "outputs": [
    {
     "name": "stdout",
     "output_type": "stream",
     "text": [
      "program terminated\n"
     ]
    }
   ],
   "source": [
    "# example 2\n",
    "name= \"sakthi\"\n",
    "regno=1\n",
    "marks=90\n",
    "if(name==\"sakthi\"):\n",
    "    if(regno==10):\n",
    "        print(\"your mark is\",marks)\n",
    "print(\"program terminated\")"
   ]
  },
  {
   "cell_type": "code",
   "execution_count": 6,
   "metadata": {
    "scrolled": true
   },
   "outputs": [
    {
     "name": "stdout",
     "output_type": "stream",
     "text": [
      "your mark is 90\n",
      "program terminated\n"
     ]
    }
   ],
   "source": [
    "# example 3\n",
    "name= \"sakthi\"\n",
    "regno=1\n",
    "marks=90\n",
    "if(name==\"sakthi\"):\n",
    "    if(regno==1):\n",
    "        print(\"your mark is\",marks)\n",
    "    else:\n",
    "        print(\"please enter valid register number!!!\")\n",
    "        \n",
    "print(\"program terminated\")\n",
    "\n",
    "\n",
    "\n",
    "\n",
    "\n",
    "\n",
    "\n",
    "\n",
    "\n",
    "\n",
    "\n",
    "\n"
   ]
  },
  {
   "cell_type": "code",
   "execution_count": 7,
   "metadata": {},
   "outputs": [
    {
     "name": "stdout",
     "output_type": "stream",
     "text": [
      "please enter a valid name!!!\n",
      "program terminated\n"
     ]
    }
   ],
   "source": [
    "# example 4\n",
    "name= \"vel\"\n",
    "regno=1\n",
    "marks=90\n",
    "if(name==\"sakthi\"):\n",
    "    if(regno==1):\n",
    "        print(\"your mark is\",marks)\n",
    "    else:\n",
    "        print(\"please enter valid register number!!!\")\n",
    "else:\n",
    "    print(\"please enter a valid name!!!\")\n",
    "        \n",
    "print(\"program terminated\")"
   ]
  },
  {
   "cell_type": "code",
   "execution_count": 8,
   "metadata": {},
   "outputs": [
    {
     "name": "stdout",
     "output_type": "stream",
     "text": [
      "your mark is 90\n",
      "program terminated\n"
     ]
    }
   ],
   "source": [
    "# example 4\n",
    "name= \"sakthi\"\n",
    "regno=1\n",
    "marks=90\n",
    "if(name==\"sakthi\"):\n",
    "    if(regno==1):\n",
    "        print(\"your mark is\",marks)\n",
    "    else:\n",
    "        print(\"please enter valid register number!!!\")\n",
    "else:\n",
    "    print(\"please enter a valid name!!!\")\n",
    "        \n",
    "print(\"program terminated\")"
   ]
  }
 ],
 "metadata": {
  "kernelspec": {
   "display_name": "Python 3",
   "language": "python",
   "name": "python3"
  },
  "language_info": {
   "codemirror_mode": {
    "name": "ipython",
    "version": 3
   },
   "file_extension": ".py",
   "mimetype": "text/x-python",
   "name": "python",
   "nbconvert_exporter": "python",
   "pygments_lexer": "ipython3",
   "version": "3.8.3"
  }
 },
 "nbformat": 4,
 "nbformat_minor": 4
}
